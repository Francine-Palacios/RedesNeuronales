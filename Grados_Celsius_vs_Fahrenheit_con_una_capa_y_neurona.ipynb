{
  "nbformat": 4,
  "nbformat_minor": 0,
  "metadata": {
    "colab": {
      "provenance": [],
      "authorship_tag": "ABX9TyMKc2MKEdmxEyGTC0rX15wm",
      "include_colab_link": true
    },
    "kernelspec": {
      "name": "python3",
      "display_name": "Python 3"
    },
    "language_info": {
      "name": "python"
    }
  },
  "cells": [
    {
      "cell_type": "markdown",
      "metadata": {
        "id": "view-in-github",
        "colab_type": "text"
      },
      "source": [
        "<a href=\"https://colab.research.google.com/github/Francine-Palacios/RedesNeuronales/blob/main/Grados_Celsius_vs_Fahrenheit_con_una_capa_y_neurona.ipynb\" target=\"_parent\"><img src=\"https://colab.research.google.com/assets/colab-badge.svg\" alt=\"Open In Colab\"/></a>"
      ]
    },
    {
      "cell_type": "markdown",
      "source": [
        "Importamos las librerias"
      ],
      "metadata": {
        "id": "kNEGvp18ciCS"
      }
    },
    {
      "cell_type": "code",
      "execution_count": null,
      "metadata": {
        "id": "BqpD92YwHXQC"
      },
      "outputs": [],
      "source": [
        "import tensorflow as tf\n",
        "import numpy as np"
      ]
    },
    {
      "cell_type": "markdown",
      "source": [
        "Escribimos los datos que vamos a utilizar"
      ],
      "metadata": {
        "id": "X06kqBtgcnu7"
      }
    },
    {
      "cell_type": "code",
      "source": [
        "celsius = np.array([-40, -10, 0, 8, 15, 22, 38], dtype=float)\n",
        "fahrenheit = np.array([-40, 14, 32, 46, 59, 72, 100], dtype=float)"
      ],
      "metadata": {
        "id": "uK6q0SKiH97V"
      },
      "execution_count": null,
      "outputs": []
    },
    {
      "cell_type": "markdown",
      "source": [
        "Para este caso usaremos una red nueronal tipo densa, de una solo una capa, con una neurona."
      ],
      "metadata": {
        "id": "dnbc_wWpct4F"
      }
    },
    {
      "cell_type": "code",
      "source": [
        "capa= tf.keras.layers.Dense(units=1, input_shape=[1])  # El parametro \"units\" corresponde a la cantidad de neuronas\n",
        "                                                        # El parametro \"input_shape\" corresponde a la cantidad de entradas que daremos, en este caso es solo un numero\n",
        "modelo=tf.keras.Sequential([capa])                   # Usaremos un modelo 'Sequential' que se usa para modelos de regresion"
      ],
      "metadata": {
        "id": "FDhZx03IIBex"
      },
      "execution_count": null,
      "outputs": []
    },
    {
      "cell_type": "markdown",
      "source": [
        "Ahora configurameos ciertos aspectos de la compilacion del modelo"
      ],
      "metadata": {
        "id": "cdC2rQkieRYF"
      }
    },
    {
      "cell_type": "code",
      "source": [
        "modelo.compile(\n",
        "    optimizer=tf.keras.optimizers.Adam(0.1),  #El parametro '0.1' corresponde a que tanto queremos que se corriga la conexion y/o sesgo de la red neuronal al entrenarse\n",
        "    loss='mean_squared_error'    # Esto quiere decir, que preferimos un monton de errores pequeños, a un error muy grande en alguna prediccion\n",
        ")"
      ],
      "metadata": {
        "id": "Nj_k0zfgIZFS"
      },
      "execution_count": null,
      "outputs": []
    },
    {
      "cell_type": "markdown",
      "source": [
        "Entrenamos nuestro modelo de redes neuronales con los datos"
      ],
      "metadata": {
        "id": "3vT6xvF9f5oC"
      }
    },
    {
      "cell_type": "code",
      "source": [
        "Entrenamiento=  modelo.fit(celsius, fahrenheit, epochs=1000, verbose=False) # El parametro \"epochs\" corresponde a la cantidad de epocas / vueltas del entrenamiento\n",
        "                                                                            # El parametro \"verbose=False\" es para que no imprima detalles acerca del entrenamiento"
      ],
      "metadata": {
        "id": "AustNvX4Ig9p"
      },
      "execution_count": null,
      "outputs": []
    },
    {
      "cell_type": "markdown",
      "source": [
        "Imprimimos el error del entrenamiento segun la epoca o iteracion, que recordemos, elegimos 1000"
      ],
      "metadata": {
        "id": "OhAUhNBFgSRr"
      }
    },
    {
      "cell_type": "code",
      "source": [
        "import matplotlib.pyplot as plt\n",
        "plt.xlabel(\"# Iteraciones\")\n",
        "plt.ylabel(\"Magnitud de errpr/perdida\")\n",
        "plt.plot(Entrenamiento.history[\"loss\"])"
      ],
      "metadata": {
        "id": "F9_0jTxNJFGv",
        "colab": {
          "base_uri": "https://localhost:8080/",
          "height": 467
        },
        "outputId": "b3f4f5ea-1e85-4a98-f8c5-25eec508163c"
      },
      "execution_count": null,
      "outputs": [
        {
          "output_type": "execute_result",
          "data": {
            "text/plain": [
              "[<matplotlib.lines.Line2D at 0x7e6dfdeef2e0>]"
            ]
          },
          "metadata": {},
          "execution_count": 7
        },
        {
          "output_type": "display_data",
          "data": {
            "text/plain": [
              "<Figure size 640x480 with 1 Axes>"
            ],
            "image/png": "[encoded data removed]"
          },
          "metadata": {}
        }
      ]
    },
    {
      "cell_type": "markdown",
      "source": [
        "Hagamos alguna prediccion"
      ],
      "metadata": {
        "id": "-EpvMKq5jdw3"
      }
    },
    {
      "cell_type": "code",
      "source": [
        "resultado = modelo.predict([100.0])\n",
        "print(\"El resultado es \" + str(resultado) + \" fahrenheit!\")"
      ],
      "metadata": {
        "id": "L2WhEJDkjhbF"
      },
      "execution_count": null,
      "outputs": []
    },
    {
      "cell_type": "markdown",
      "source": [
        "Veamos las variables internas del modelo en cuestion"
      ],
      "metadata": {
        "id": "0IRGublujjR1"
      }
    },
    {
      "cell_type": "code",
      "source": [
        "\n",
        "print(capa.get_weights())\n"
      ],
      "metadata": {
        "colab": {
          "base_uri": "https://localhost:8080/"
        },
        "id": "YBysDXjXjoRN",
        "outputId": "e8cc9aa9-fc2c-4965-8d2f-abfc99e8d34e"
      },
      "execution_count": null,
      "outputs": [
        {
          "output_type": "stream",
          "name": "stdout",
          "text": [
            "[array([[1.7982037]], dtype=float32), array([31.922728], dtype=float32)]\n"
          ]
        }
      ]
    }
  ]
}