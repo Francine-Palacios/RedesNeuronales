{
  "nbformat": 4,
  "nbformat_minor": 0,
  "metadata": {
    "colab": {
      "provenance": [],
      "authorship_tag": "ABX9TyOSEIJpYy1cgJkYwLu3lZ4J",
      "include_colab_link": true
    },
    "kernelspec": {
      "name": "python3",
      "display_name": "Python 3"
    },
    "language_info": {
      "name": "python"
    }
  },
  "cells": [
    {
      "cell_type": "markdown",
      "metadata": {
        "id": "view-in-github",
        "colab_type": "text"
      },
      "source": [
        "<a href=\"https://colab.research.google.com/github/Francine-Palacios/RedesNeuronales/blob/main/Regresion/Grados_Celsius_vs_Fahrenheit_con_2_capas_y_3_neuronas.ipynb\" target=\"_parent\"><img src=\"https://colab.research.google.com/assets/colab-badge.svg\" alt=\"Open In Colab\"/></a>"
      ]
    },
    {
      "cell_type": "markdown",
      "source": [
        "Importamos las librerias"
      ],
      "metadata": {
        "id": "kNEGvp18ciCS"
      }
    },
    {
      "cell_type": "code",
      "execution_count": null,
      "metadata": {
        "id": "BqpD92YwHXQC"
      },
      "outputs": [],
      "source": [
        "import tensorflow as tf\n",
        "import numpy as np"
      ]
    },
    {
      "cell_type": "markdown",
      "source": [
        "Escribimos los datos que vamos a utilizar"
      ],
      "metadata": {
        "id": "X06kqBtgcnu7"
      }
    },
    {
      "cell_type": "code",
      "source": [
        "celsius = np.array([-40, -10, 0, 8, 15, 22, 38], dtype=float)\n",
        "fahrenheit = np.array([-40, 14, 32, 46, 59, 72, 100], dtype=float)"
      ],
      "metadata": {
        "id": "uK6q0SKiH97V"
      },
      "execution_count": null,
      "outputs": []
    },
    {
      "cell_type": "markdown",
      "source": [
        "Para este caso usaremos una red neuronal tipo densa, de 2 capas , con 3 neuronas cada una."
      ],
      "metadata": {
        "id": "dnbc_wWpct4F"
      }
    },
    {
      "cell_type": "code",
      "source": [
        "capa= tf.keras.layers.Dense(units=3, input_shape=[1])  # El parametro \"units\" corresponde a la cantidad de neuronas\n",
        "                                                        # El parametro \"input_shape\" corresponde a la cantidad de entradas que daremos, en este caso es solo un numero\n",
        "\n",
        "oculta1= tf.keras.layers.Dense(units=3)\n",
        "salida=tf.keras.layers.Dense(units=1)\n",
        "modelo=tf.keras.Sequential([capa, oculta1, salida])                   # Usaremos un modelo 'Sequential' que se usa para modelos de regresion"
      ],
      "metadata": {
        "id": "FDhZx03IIBex"
      },
      "execution_count": null,
      "outputs": []
    },
    {
      "cell_type": "markdown",
      "source": [
        "Ahora configurameos ciertos aspectos de la compilacion del modelo"
      ],
      "metadata": {
        "id": "cdC2rQkieRYF"
      }
    },
    {
      "cell_type": "code",
      "source": [
        "modelo.compile(\n",
        "    optimizer=tf.keras.optimizers.Adam(0.1),  #El parametro '0.1' corresponde a que tanto queremos que se corriga la conexion y/o sesgo de la red neuronal al entrenarse\n",
        "    loss='mean_squared_error'    # Esto quiere decir, que preferimos un monton de errores pequeños, a un error muy grande en alguna prediccion\n",
        ")"
      ],
      "metadata": {
        "id": "Nj_k0zfgIZFS"
      },
      "execution_count": null,
      "outputs": []
    },
    {
      "cell_type": "markdown",
      "source": [
        "Entrenamos nuestro modelo de redes neuronales con los datos"
      ],
      "metadata": {
        "id": "3vT6xvF9f5oC"
      }
    },
    {
      "cell_type": "code",
      "source": [
        "Entrenamiento=  modelo.fit(celsius, fahrenheit, epochs=1000, verbose=False) # El parametro \"epochs\" corresponde a la cantidad de epocas / vueltas del entrenamiento\n",
        "                                                                            # El parametro \"verbose=False\" es para que no imprima detalles acerca del entrenamiento"
      ],
      "metadata": {
        "id": "AustNvX4Ig9p"
      },
      "execution_count": null,
      "outputs": []
    },
    {
      "cell_type": "markdown",
      "source": [
        "Imprimimos el error del entrenamiento segun la epoca o iteracion, que recordemos, elegimos 1000"
      ],
      "metadata": {
        "id": "OhAUhNBFgSRr"
      }
    },
    {
      "cell_type": "code",
      "source": [
        "import matplotlib.pyplot as plt\n",
        "plt.xlabel(\"# Iteraciones\")\n",
        "plt.ylabel(\"Magnitud de errpr/perdida\")\n",
        "plt.plot(Entrenamiento.history[\"loss\"])"
      ],
      "metadata": {
        "id": "F9_0jTxNJFGv",
        "colab": {
          "base_uri": "https://localhost:8080/",
          "height": 467
        },
        "outputId": "31889ae5-8172-4d5a-df57-7b5d2cae8fc5"
      },
      "execution_count": null,
      "outputs": [
        {
          "output_type": "execute_result",
          "data": {
            "text/plain": [
              "[<matplotlib.lines.Line2D at 0x7eefefd3f250>]"
            ]
          },
          "metadata": {},
          "execution_count": 16
        },
        {
          "output_type": "display_data",
          "data": {
            "text/plain": [
              "<Figure size 640x480 with 1 Axes>"
            ],
            "image/png": "[encoded data removed]"
          },
          "metadata": {}
        }
      ]
    },
    {
      "cell_type": "markdown",
      "source": [
        "Realizaremos una prediccion"
      ],
      "metadata": {
        "id": "M9o2aa4TiovX"
      }
    },
    {
      "cell_type": "code",
      "source": [
        "resultado = modelo.predict([100.0])\n",
        "print(\"El resultado es \" + str(resultado) + \" fahrenheit!\")"
      ],
      "metadata": {
        "colab": {
          "base_uri": "https://localhost:8080/"
        },
        "id": "uR2PCVBditjJ",
        "outputId": "7a1d295a-c0b0-4616-8420-71826d2cb8c1"
      },
      "execution_count": null,
      "outputs": [
        {
          "output_type": "stream",
          "name": "stdout",
          "text": [
            "1/1 [==============================] - 0s 55ms/step\n",
            "El resultado es [[211.74744]] fahrenheit!\n"
          ]
        }
      ]
    },
    {
      "cell_type": "markdown",
      "source": [
        "Veamos las variables internas del modelo de redes nueornales"
      ],
      "metadata": {
        "id": "ZvpaEj0FjQPW"
      }
    },
    {
      "cell_type": "code",
      "source": [
        "print(capa.get_weights())\n",
        "print(oculta1.get_weights())\n",
        "print(salida.get_weights())"
      ],
      "metadata": {
        "colab": {
          "base_uri": "https://localhost:8080/"
        },
        "id": "KS8_BZaIjW1p",
        "outputId": "9f6b06f8-5dca-46c6-98d7-f4dd2489d02d"
      },
      "execution_count": null,
      "outputs": [
        {
          "output_type": "stream",
          "name": "stdout",
          "text": [
            "[array([[0.7813854 , 0.14309387, 0.2212947 ]], dtype=float32), array([ 3.718696 , -1.5035962,  3.6791172], dtype=float32)]\n",
            "[array([[-0.38516352,  1.1134075 ,  0.48485565],\n",
            "       [ 0.19141176, -0.8520601 , -0.15673949],\n",
            "       [ 0.72314894,  1.1361711 , -0.26234666]], dtype=float32), array([3.2108216, 3.5948339, 3.396962 ], dtype=float32)]\n",
            "[array([[0.7442977 ],\n",
            "       [1.612578  ],\n",
            "       [0.90717864]], dtype=float32), array([3.5268292], dtype=float32)]\n"
          ]
        }
      ]
    }
  ]
}